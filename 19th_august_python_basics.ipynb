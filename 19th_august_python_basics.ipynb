{
 "cells": [
  {
   "cell_type": "markdown",
   "id": "af9f646c",
   "metadata": {},
   "source": [
    "##  TOPIC: Python Basics Variable"
   ]
  },
  {
   "cell_type": "markdown",
   "id": "f3045f27",
   "metadata": {},
   "source": [
    "1. Declare two variables, `x` and `y`, and assign them integer values. Swap the values of these variables without using any temporary variable."
   ]
  },
  {
   "cell_type": "code",
   "execution_count": 1,
   "id": "f95593a5",
   "metadata": {},
   "outputs": [],
   "source": [
    "x = 10\n",
    "y = 20\n",
    "\n",
    "x,y = y,x     #swaping values of x and y"
   ]
  },
  {
   "cell_type": "code",
   "execution_count": 2,
   "id": "b16282c8",
   "metadata": {},
   "outputs": [
    {
     "data": {
      "text/plain": [
       "20"
      ]
     },
     "execution_count": 2,
     "metadata": {},
     "output_type": "execute_result"
    }
   ],
   "source": [
    "x"
   ]
  },
  {
   "cell_type": "code",
   "execution_count": 3,
   "id": "e59b0a15",
   "metadata": {},
   "outputs": [
    {
     "data": {
      "text/plain": [
       "10"
      ]
     },
     "execution_count": 3,
     "metadata": {},
     "output_type": "execute_result"
    }
   ],
   "source": [
    "y"
   ]
  },
  {
   "cell_type": "markdown",
   "id": "ab71b234",
   "metadata": {},
   "source": [
    "2.  Create a program that calculates the area of a rectangle. Take the length and width as inputs from the user and store them in variables. Calculate and display the area."
   ]
  },
  {
   "cell_type": "code",
   "execution_count": 4,
   "id": "0672068d",
   "metadata": {},
   "outputs": [
    {
     "name": "stdout",
     "output_type": "stream",
     "text": [
      "Enter the length of a rectangle 3\n",
      "Enter the width of a rectangle 2\n",
      "Area of a rectangle is = 6.0\n"
     ]
    }
   ],
   "source": [
    "len = float(input('Enter the length of a rectangle '))\n",
    "\n",
    "width = float(input('Enter the width of a rectangle '))\n",
    "\n",
    "Area = len * width\n",
    "print(\"Area of a rectangle is = \" +str(Area))"
   ]
  },
  {
   "cell_type": "markdown",
   "id": "f103b767",
   "metadata": {},
   "source": [
    "3. Write a Python program that converts temperatures from Celsius to Fahrenheit. Take the temperature in Celsius as input, store it in a variable, convert it to Fahrenheit, and display the result."
   ]
  },
  {
   "cell_type": "code",
   "execution_count": 6,
   "id": "b93717df",
   "metadata": {},
   "outputs": [
    {
     "name": "stdout",
     "output_type": "stream",
     "text": [
      "Enter the temperature in celsius 48\n",
      "The temperature in fahrenheit is = 118.4\n"
     ]
    }
   ],
   "source": [
    "temp_celsius = int(input('Enter the temperature in celsius '))\n",
    "\n",
    "temp_fahrenheit = ((1.8*temp_celsius)+32)\n",
    "\n",
    "print(\"The temperature in fahrenheit is =\", temp_fahrenheit)"
   ]
  },
  {
   "cell_type": "markdown",
   "id": "3189e28f",
   "metadata": {},
   "source": [
    "##  TOPIC: String Based Questions"
   ]
  },
  {
   "cell_type": "markdown",
   "id": "5148636c",
   "metadata": {},
   "source": [
    "1. Write a Python program that takes a string as input and prints the length of\n",
    "the string."
   ]
  },
  {
   "cell_type": "code",
   "execution_count": 4,
   "id": "a3b883a7",
   "metadata": {},
   "outputs": [
    {
     "name": "stdout",
     "output_type": "stream",
     "text": [
      "Enter the string pwskills\n",
      "The length of the string is  8\n"
     ]
    }
   ],
   "source": [
    "a = input('Enter the string ')\n",
    "b = len(a)\n",
    "print('The length of the string is ', b)"
   ]
  },
  {
   "cell_type": "markdown",
   "id": "a9eed670",
   "metadata": {},
   "source": [
    "2. Create a program that takes a sentence from the user and counts the number of vowels (a, e, i, o, u) in the string."
   ]
  },
  {
   "cell_type": "code",
   "execution_count": 6,
   "id": "df4f94aa",
   "metadata": {},
   "outputs": [
    {
     "name": "stdout",
     "output_type": "stream",
     "text": [
      "Enter a sentence: I am Riya\n",
      "The number of vowels in string is: 4\n"
     ]
    }
   ],
   "source": [
    "a = input('Enter a sentence: ')\n",
    "count = 0\n",
    "for i in a:\n",
    "    if i in 'aeiouAEIOU':\n",
    "        count+=1\n",
    "print('The number of vowels in string is:',count)"
   ]
  },
  {
   "cell_type": "code",
   "execution_count": null,
   "id": "b5947a3d",
   "metadata": {},
   "outputs": [],
   "source": []
  },
  {
   "cell_type": "markdown",
   "id": "097ef6b4",
   "metadata": {},
   "source": [
    "3. Given a string, reverse the order of characters using string slicing and print the reversed string."
   ]
  },
  {
   "cell_type": "code",
   "execution_count": 7,
   "id": "fadf92a1",
   "metadata": {},
   "outputs": [],
   "source": [
    "x = 'pwcourse'"
   ]
  },
  {
   "cell_type": "code",
   "execution_count": 8,
   "id": "6832517b",
   "metadata": {},
   "outputs": [],
   "source": [
    "y = x[-1:-9:-1]"
   ]
  },
  {
   "cell_type": "code",
   "execution_count": 9,
   "id": "fe200b68",
   "metadata": {},
   "outputs": [
    {
     "data": {
      "text/plain": [
       "'esruocwp'"
      ]
     },
     "execution_count": 9,
     "metadata": {},
     "output_type": "execute_result"
    }
   ],
   "source": [
    "y"
   ]
  },
  {
   "cell_type": "markdown",
   "id": "d64a9503",
   "metadata": {},
   "source": [
    "4. Write a program that takes a string as input and checks if it is a palindrome (reads the same forwards and backwards)."
   ]
  },
  {
   "cell_type": "code",
   "execution_count": 10,
   "id": "950c14d0",
   "metadata": {},
   "outputs": [
    {
     "name": "stdout",
     "output_type": "stream",
     "text": [
      "Enter the string: dad\n",
      "The given string is a palindrome\n"
     ]
    }
   ],
   "source": [
    "a = input(\"Enter the string: \") \n",
    "b = a[::-1]\n",
    "\n",
    "if a==b:\n",
    "    print('The given string is a palindrome')\n",
    "else:\n",
    "    print('The given string is not a palindrome')"
   ]
  },
  {
   "cell_type": "code",
   "execution_count": null,
   "id": "6da2146a",
   "metadata": {},
   "outputs": [],
   "source": []
  },
  {
   "cell_type": "markdown",
   "id": "b50d03fb",
   "metadata": {},
   "source": [
    "5. Create a program that takes a string as input and removes all the spaces from it. Print the modified string without spaces."
   ]
  },
  {
   "cell_type": "code",
   "execution_count": 11,
   "id": "a9bdbf2d",
   "metadata": {},
   "outputs": [
    {
     "name": "stdout",
     "output_type": "stream",
     "text": [
      "Enter the string: I am Riya\n",
      "The modified string without spaces is : IamRiya\n"
     ]
    }
   ],
   "source": [
    "a = input(\"Enter the string: \")\n",
    "b = a.replace(' ','')\n",
    "print(\"The modified string without spaces is :\", b)"
   ]
  },
  {
   "cell_type": "code",
   "execution_count": null,
   "id": "06943735",
   "metadata": {},
   "outputs": [],
   "source": []
  }
 ],
 "metadata": {
  "kernelspec": {
   "display_name": "Python 3 (ipykernel)",
   "language": "python",
   "name": "python3"
  },
  "language_info": {
   "codemirror_mode": {
    "name": "ipython",
    "version": 3
   },
   "file_extension": ".py",
   "mimetype": "text/x-python",
   "name": "python",
   "nbconvert_exporter": "python",
   "pygments_lexer": "ipython3",
   "version": "3.9.13"
  }
 },
 "nbformat": 4,
 "nbformat_minor": 5
}
